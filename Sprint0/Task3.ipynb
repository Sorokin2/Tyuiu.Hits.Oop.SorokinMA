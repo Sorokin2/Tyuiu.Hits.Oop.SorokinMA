{
 "cells": [
  {
   "cell_type": "markdown",
   "metadata": {},
   "source": [
    "<h1 style=\"color:DodgerBlue\">Индивидальный проект</h1>"
   ]
  },
  {
   "cell_type": "markdown",
   "metadata": {},
   "source": [
    "<h2 style=\"color:DodgerBlue\">Название проекта:</h2>\n",
    "\n",
    "----\n",
    "\n",
    "### Вариант задания №22\n"
   ]
  },
  {
   "cell_type": "markdown",
   "metadata": {},
   "source": [
    "<h2 style=\"color:DodgerBlue\">Описание проекта:</h2>\n",
    "\n",
    "----\n",
    "\n",
    "Создать базовый класс Project в C#, который будет представлять проекты в рамках\n",
    "организации. На основе этого класса разработать 2-3 производных класса,\n",
    "демонстрирующих принципы наследования и полиморфизма. В каждом из классов\n",
    "должны быть реализованы новые атрибуты и методы, а также переопределены\n",
    "некоторые методы базового класса для демонстрации полиморфизма.\n",
    "\n",
    "Требования к базовому классу Project:\n",
    "\n",
    "1. Атрибуты: ID проекта (ProjectId), Название проекта (ProjectName), Статус\n",
    "проекта (Status).\n",
    "2. Методы:\n",
    "- UpdateStatus(): метод для обновления статуса проекта.\n",
    "- GetProjectDetails(): метод для получения деталей проекта.\n",
    "- AssignTeamMember(): метод для назначения командного члена\n",
    "проекту.\n",
    "\n",
    "Требования к производным классам:\n",
    "1. ПродуктовыйПроект (ProductProject): Должен содержать дополнительные\n",
    "атрибуты, такие как Ожидаемая дата завершения (ExpectedCompletionDate).\n",
    "Метод UpdateStatus() должен быть переопределен для включения\n",
    "ожидаемой даты завершения в статус проекта.\n",
    "2. ИсследовательскийПроект (ResearchProject): Должен содержать\n",
    "дополнительные атрибуты, такие как Финансирование (FundingAmount).\n",
    "Метод AssignTeamMember() должен быть переопределен для указания\n",
    "специфических требований к навыкам командного члена для\n",
    "исследовательского проекта.\n",
    "3. ИнфраструктурныйПроект (InfrastructureProject) (если требуется третий\n",
    "класс): Должен содержать дополнительные атрибуты, такие как Срок\n",
    "выполнения (ExecutionPeriod). Метод GetProjectDetails() должен быть\n",
    "переопределен для отображения срока выполнения проекта вместе с\n",
    "другими деталями проекта.\n"
   ]
  },
  {
   "cell_type": "markdown",
   "metadata": {},
   "source": [
    "<h2 style=\"color:DodgerBlue\">Реализация:</h2>\n",
    "\n",
    "----"
   ]
  },
  {
   "cell_type": "code",
   "execution_count": 2,
   "metadata": {
    "dotnet_interactive": {
     "language": "csharp"
    },
    "polyglot_notebook": {
     "kernelName": "csharp"
    }
   },
   "outputs": [
    {
     "name": "stdout",
     "output_type": "stream",
     "text": [
      "ID проекта: 1\n",
      "Название проекта проекта: Продукт А\n",
      "Статус проекта: В процессе; 14 сентября примерная дата выполнения\n",
      "Толмачов Виталий, обладающий навыками: Знание языка c#, Знание Ооп, назначен в команду проекта: Исследовательский проект Б\n",
      "ID проекта: 3\n",
      "Название проекта проекта: Инфраструктурный проет В\n",
      "Статус проекта: Выполнен\n",
      "Срок выполнения: 30 дней\n"
     ]
    }
   ],
   "source": [
    "using System;\n",
    "\n",
    "public class Project\n",
    "{\n",
    "    public int ProjectId { get; set; }\n",
    "    public string ProjectName { get; set; }\n",
    "    private string status;\n",
    "    public string Status\n",
    "    {\n",
    "        get { return status; }\n",
    "        set { status = value; }\n",
    "    }\n",
    "\n",
    "    public virtual void UpdateStatus(string newStatus)\n",
    "    {\n",
    "        Status = newStatus;\n",
    "        Console.WriteLine(\"Новый статус проекта: \" + Status);\n",
    "    }\n",
    "\n",
    "    public virtual void GetProjectDetails()\n",
    "    {\n",
    "        Console.WriteLine(\"ID проекта: \" + ProjectId);\n",
    "        Console.WriteLine(\"Название проекта проекта: \" + ProjectName);\n",
    "        Console.WriteLine(\"Статус проекта: \" + Status);\n",
    "    }\n",
    "\n",
    "    public virtual void AssignTeamMember(string memberName)\n",
    "    {\n",
    "        Console.WriteLine(memberName + \" назначен в команду проекта: \" + ProjectName);\n",
    "    }\n",
    "}\n",
    "\n",
    "public class ProductProject : Project\n",
    "{\n",
    "    private string expect;\n",
    "    public string ExpectedCompletionDate \n",
    "    {\n",
    "        get { return expect;}\n",
    "        set { expect = value + \" примерная дата выполнения\";}\n",
    "    }\n",
    "\n",
    "    public override void UpdateStatus(string newStatus)\n",
    "    {\n",
    "        Status = newStatus + \"; \" + ExpectedCompletionDate;\n",
    "    }\n",
    "}\n",
    "\n",
    "public class ResearchProject : Project\n",
    "{\n",
    "    public decimal FundingAmount { get; set; }\n",
    "    public string Requirements { get; set;}\n",
    "\n",
    "    public override void AssignTeamMember(string memberName)\n",
    "    {\n",
    "        Console.WriteLine(memberName +\", обладающий навыками: \"+ Requirements + \", назначен в команду проекта: \" + ProjectName);\n",
    "    }\n",
    "}\n",
    "\n",
    "public class InfrastructureProject : Project\n",
    "{\n",
    "    public string ExecutionPeriod { get; set; }\n",
    "\n",
    "    public override void GetProjectDetails()\n",
    "    {\n",
    "        base.GetProjectDetails();\n",
    "        Console.WriteLine(\"Срок выполнения: \" + ExecutionPeriod);\n",
    "    }\n",
    "}\n",
    "\n",
    "ProductProject productProject = new ProductProject\n",
    "    {\n",
    "        ProjectId = 1,\n",
    "        ProjectName = \"Продукт А\",\n",
    "        Status = \"Планируется\",\n",
    "        ExpectedCompletionDate = \"14 сентября\"\n",
    "    };\n",
    "    productProject.UpdateStatus(\"В процессе\");\n",
    "    productProject.GetProjectDetails();\n",
    "\n",
    "ResearchProject researchProject = new ResearchProject\n",
    "    {\n",
    "        ProjectId = 2,\n",
    "        ProjectName = \"Исследовательский проект Б\",\n",
    "        Status = \"Планируется\",\n",
    "        FundingAmount = 10000,\n",
    "        Requirements = \"Знание языка c#, Знание Ооп\"\n",
    "    };\n",
    "    researchProject.AssignTeamMember(\"Толмачов Виталий\");\n",
    "\n",
    "InfrastructureProject infrastructureProject = new InfrastructureProject\n",
    "    {\n",
    "        ProjectId = 3,\n",
    "        ProjectName = \"Инфраструктурный проет В\",\n",
    "        Status = \"Выполнен\",\n",
    "        ExecutionPeriod = \"30 дней\"\n",
    "    };\n",
    "    infrastructureProject.GetProjectDetails();\n"
   ]
  }
 ],
 "metadata": {
  "kernelspec": {
   "display_name": ".NET (C#)",
   "language": "C#",
   "name": ".net-csharp"
  },
  "polyglot_notebook": {
   "kernelInfo": {
    "defaultKernelName": "csharp",
    "items": [
     {
      "aliases": [],
      "languageName": "csharp",
      "name": "csharp"
     }
    ]
   }
  }
 },
 "nbformat": 4,
 "nbformat_minor": 2
}
